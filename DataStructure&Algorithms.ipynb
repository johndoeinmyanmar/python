{
 "cells": [
  {
   "cell_type": "markdown",
   "metadata": {},
   "source": [
    "# Linked lists"
   ]
  },
  {
   "cell_type": "markdown",
   "metadata": {},
   "source": [
    "In linked lists, the elements are linked together in a way that can be categorized into following ..\n",
    "- Singly linked lists\n",
    "- Circularly linked lists\n",
    "- Doubly linked lists\n",
    "- Positional lists"
   ]
  },
  {
   "cell_type": "markdown",
   "metadata": {},
   "source": [
    "## Singly linked list"
   ]
  },
  {
   "cell_type": "markdown",
   "metadata": {},
   "source": [
    "A singly linked list, in its simplest form, is a collection of nodes that form linear sequence. Each node has a reference to the contained object and reference to the next node, but not the node before. The first node is called the head, and it don't have the pointer from the previous node, cuz it is the very first node. And the end node is called the tail and it points to None."
   ]
  },
  {
   "cell_type": "code",
   "execution_count": null,
   "metadata": {},
   "outputs": [],
   "source": [
    "class _Node():\n",
    "    \"\"\"Light-weight, non-public class for storing singly linked node\"\"\"\n",
    "    __slots__ = '_element', '_next'\n",
    "    \n",
    "    def __init__(self, element, next):\n",
    "        self._element = element\n",
    "        self._next = next"
   ]
  },
  {
   "cell_type": "markdown",
   "metadata": {},
   "source": [
    "Since singly linked list is the collection of nodes which comprise of elements and next pointer, each node supposes to be an object with both element and next. That is what the above class does. "
   ]
  },
  {
   "cell_type": "code",
   "execution_count": 2,
   "metadata": {},
   "outputs": [],
   "source": [
    "class Empty(Exception):\n",
    "    pass"
   ]
  },
  {
   "cell_type": "code",
   "execution_count": 3,
   "metadata": {},
   "outputs": [],
   "source": [
    "class LinkedStack:\n",
    "    \"\"\"LIFO stack implementation with the singly linked list for data storage,\n",
    "    instead of python list\"\"\"\n",
    "    #--------------------Nested Node class-----------------------\n",
    "    class _Node:\n",
    "        \"\"\"Light-weight, non-public class for storing singly linked list\"\"\"\n",
    "        __slots__ = '_element', '_next'\n",
    "        \n",
    "        def __init__(self, element, next):\n",
    "            self._element = element\n",
    "            self._next = next\n",
    "            \n",
    "    #-------------------Stack methods-------------------\n",
    "    def __init__(self):\n",
    "        \"\"\"Create an empty stack\"\"\"\n",
    "        self._head = None\n",
    "        self._size = 0\n",
    "    \n",
    "    def __len__(self):\n",
    "        \"\"\"Return the length of the stack\"\"\"\n",
    "        return self._size\n",
    "    \n",
    "    def is_empty(self):\n",
    "        \"\"\"Return True if the size is zero\"\"\"\n",
    "        return self._size == 0\n",
    "    \n",
    "    def push(self, e):\n",
    "        \"\"\"Add element e at the top of the stack\"\"\"\n",
    "        self._head = self._Node(e,self._head)\n",
    "        self._size += 1\n",
    "    \n",
    "    def top(self):\n",
    "        \"\"\"Return (but do not return ) the element at the top of the stack\n",
    "        \n",
    "        Raise Empty exception if the stack is empty\"\"\"\n",
    "        if self.is_empty():\n",
    "            raise Empty('Stack is empty')\n",
    "        return self._head._element\n",
    "    \n",
    "    def pop(self):\n",
    "        \"\"\"Return and remove the element from the top of the stack\n",
    "        \n",
    "        Raise Empty exception if the stack is empty\"\"\"\n",
    "        if self.is_empty():\n",
    "            raise Empty('Stack is empty')\n",
    "        answer = self._head._element\n",
    "        self._head = self._head._next\n",
    "        self._size -= 1\n",
    "        return answer\n",
    "    "
   ]
  },
  {
   "cell_type": "markdown",
   "metadata": {},
   "source": [
    "Here is the use of the LinkedStack class"
   ]
  },
  {
   "cell_type": "code",
   "execution_count": 4,
   "metadata": {},
   "outputs": [
    {
     "data": {
      "text/plain": [
       "'b'"
      ]
     },
     "execution_count": 4,
     "metadata": {},
     "output_type": "execute_result"
    }
   ],
   "source": [
    "# creating the instance of the LinkedStack() class\n",
    "stack = LinkedStack()\n",
    "# adding an element 'a' and 'b' to the top of the stack\n",
    "stack.push('a')\n",
    "stack.push('b')\n",
    "# finding the len of the stack\n",
    "len(stack)\n",
    "# removing the first element from the stack\n",
    "stack.pop()\n"
   ]
  },
  {
   "cell_type": "markdown",
   "metadata": {},
   "source": [
    "### Implementing Queue with Singly linked list"
   ]
  },
  {
   "cell_type": "code",
   "execution_count": 5,
   "metadata": {},
   "outputs": [],
   "source": [
    "class LinkedQueue:\n",
    "    \"\"\"FIFO queue implementation using the singly linked list as storage\"\"\"\n",
    "    \n",
    "    class _Node:\n",
    "        \"\"\"light-weight, non-public class for linked node\"\"\"\n",
    "        __slots__ = '_element', '_next'\n",
    "        \n",
    "        def __init__(self, element, next):\n",
    "            \"\"\"Create a node\"\"\"\n",
    "            self._element = element\n",
    "            self._next = next\n",
    "    \n",
    "    def __init__(self):\n",
    "        \"\"\"Create an empty queue\"\"\"\n",
    "        self._head = None\n",
    "        self._tail = None\n",
    "        self._size = 0\n",
    "        \n",
    "    def __len__(self):\n",
    "        \"\"\"Return the length of the queue\"\"\"\n",
    "        return self._size\n",
    "    \n",
    "    def is_empty(self):\n",
    "        \"\"\"Return True if the queue is empty\"\"\"\n",
    "        return self._size == 0\n",
    "    \n",
    "    def first(self):\n",
    "        \"\"\"Return the first element from the queue\"\"\"\n",
    "        if self.is_empty():\n",
    "            raise Empty('Queue is empty')\n",
    "        return self._head._element\n",
    "    \n",
    "    def dequeue(self):\n",
    "        \"\"\"Return and remove the first element of the queue(FIFO)\n",
    "        raise Empty exception if the queue is empty\"\"\"\n",
    "        if self.is_empty():\n",
    "            raise Empty('Queue is empty')\n",
    "        answer = self._head._element\n",
    "        self._head = self._head._next\n",
    "        self._size -= 1\n",
    "        if self.is_empty():\n",
    "            self._tail = None\n",
    "        return answer\n",
    "    \n",
    "    def enqueue(self, e):\n",
    "        \"\"\"Add an element e to the back of the queue\"\"\"\n",
    "        newest = self._Node(e, self._head)\n",
    "        if self.is_empty():\n",
    "            self._head = newest\n",
    "        else:\n",
    "            self._tail._next = newest\n",
    "        self._tail = newest\n",
    "        self._size += 1\n",
    "        "
   ]
  },
  {
   "cell_type": "code",
   "execution_count": 6,
   "metadata": {},
   "outputs": [],
   "source": [
    "queue = LinkedQueue()"
   ]
  },
  {
   "cell_type": "code",
   "execution_count": 7,
   "metadata": {},
   "outputs": [],
   "source": [
    "queue.enqueue('a')\n",
    "queue.enqueue('b')"
   ]
  },
  {
   "cell_type": "code",
   "execution_count": 8,
   "metadata": {},
   "outputs": [
    {
     "data": {
      "text/plain": [
       "'a'"
      ]
     },
     "execution_count": 8,
     "metadata": {},
     "output_type": "execute_result"
    }
   ],
   "source": [
    "queue.first()"
   ]
  },
  {
   "cell_type": "markdown",
   "metadata": {},
   "source": [
    "## Circularly Linked List\n",
    "Just like the other types of linked list, circularly linked list also has nodes conntecting each other but in circularly linked list, tail node points its next reference to the head. So it seems like circular. And if you know the reference of the tail, you figure out where the head node will be.\n",
    "\n",
    "Below is the circularly linked list implementation of the circular queue."
   ]
  },
  {
   "cell_type": "code",
   "execution_count": 9,
   "metadata": {},
   "outputs": [],
   "source": [
    "class CircularQueue:\n",
    "    \"\"\"Circular Queue implementation using circular linked list as storage\"\"\"\n",
    "    \n",
    "    class _Node:\n",
    "        \"\"\"Light weight, non-public class for storing the node element\"\"\"\n",
    "        __slots__ = '_element', '_next'\n",
    "        \n",
    "        def __init__(self, element, next):\n",
    "            self._element = element\n",
    "            self._next = next\n",
    "    \n",
    "    def __init__(self):\n",
    "        \"\"\"Create an empty circular queue\"\"\"\n",
    "        self._tail = None\n",
    "        self._size = 0\n",
    "    \n",
    "    def __len__(self):\n",
    "        \"\"\"Return the size of the queue\"\"\"\n",
    "        return self._size\n",
    "    \n",
    "    def is_empty(self):\n",
    "        \"\"\"Return True if the size of the queue is empty\"\"\"\n",
    "        return self._size == 0\n",
    "    \n",
    "    def first(self):\n",
    "        \"\"\"Return the first element (head) of the queue\"\"\"\n",
    "        if self.is_empty():\n",
    "            raise Empty('Queue is empty')\n",
    "        head = self._tail._next\n",
    "        return head._element\n",
    "    \n",
    "    def dequeue(self):\n",
    "        \"\"\"Return and remove the first element of the queue (FIFO) \n",
    "           \n",
    "           raise Empty exception if the queue is empty\"\"\"\n",
    "        if self.is_empty():\n",
    "            raise Empty('Queue is empty')\n",
    "        old_head = self._tail._next\n",
    "        if self._size == 1:\n",
    "            self._tail = None\n",
    "        else:\n",
    "            self._tail._next = old_head._next\n",
    "        self._size -= 1\n",
    "        return old_head._element\n",
    "    \n",
    "    def enqueue(self, e):\n",
    "        \"\"\"Add an element e between the head and tail node\"\"\"\n",
    "        newest = self._Node(e, None)\n",
    "        if self.is_empty():\n",
    "            newest._next = newest\n",
    "        else:\n",
    "            newest._next = self._tail._next\n",
    "            self._tail._next = newest\n",
    "        self._tail = newest           # new node becomes the tail\n",
    "        self._size += 1\n",
    "        \n",
    "    def rotate(self):\n",
    "        \"\"\"Rotate front element to the back of the queue\"\"\"\n",
    "        if self._size > 0:\n",
    "            self._tail = self._tail._next"
   ]
  },
  {
   "cell_type": "code",
   "execution_count": 21,
   "metadata": {},
   "outputs": [],
   "source": [
    "a = CircularQueue()"
   ]
  },
  {
   "cell_type": "code",
   "execution_count": 22,
   "metadata": {},
   "outputs": [],
   "source": [
    "for x in range(10):\n",
    "    a.enqueue(x)\n"
   ]
  },
  {
   "cell_type": "code",
   "execution_count": 23,
   "metadata": {},
   "outputs": [
    {
     "data": {
      "text/plain": [
       "10"
      ]
     },
     "execution_count": 23,
     "metadata": {},
     "output_type": "execute_result"
    }
   ],
   "source": [
    "len(a)"
   ]
  },
  {
   "cell_type": "code",
   "execution_count": 24,
   "metadata": {},
   "outputs": [
    {
     "data": {
      "text/plain": [
       "0"
      ]
     },
     "execution_count": 24,
     "metadata": {},
     "output_type": "execute_result"
    }
   ],
   "source": [
    "a.dequeue()"
   ]
  },
  {
   "cell_type": "code",
   "execution_count": 25,
   "metadata": {},
   "outputs": [
    {
     "data": {
      "text/plain": [
       "1"
      ]
     },
     "execution_count": 25,
     "metadata": {},
     "output_type": "execute_result"
    }
   ],
   "source": [
    "a.first()"
   ]
  },
  {
   "cell_type": "code",
   "execution_count": 31,
   "metadata": {},
   "outputs": [
    {
     "data": {
      "text/plain": [
       "7"
      ]
     },
     "execution_count": 31,
     "metadata": {},
     "output_type": "execute_result"
    }
   ],
   "source": [
    "a.rotate()\n",
    "a.first()"
   ]
  },
  {
   "cell_type": "markdown",
   "metadata": {},
   "source": [
    "## Doubly Linked List\n",
    "In doubly linked list, each node has the reference to its previous and next node. \n",
    "Another thing to note is that the whole node sequence is in between two empty nodes, header and trailer. By having that two nodes, we don't have to worry about the special case when the list is empty. In doubly linked list, insertion and deletion in O(1) worst case time."
   ]
  },
  {
   "cell_type": "code",
   "execution_count": 32,
   "metadata": {},
   "outputs": [],
   "source": [
    "class _DoublyLinkedBase:\n",
    "    \"\"\"A base class providing a doubly linked list representation\"\"\"\n",
    "    \n",
    "    class _Node:\n",
    "        \"\"\"light-weight, non-public class for storing the each node\"\"\"\n",
    "        __slots__ = '_element', '_prev', '_next'\n",
    "        \n",
    "        def __init__(self, element, prev, next):\n",
    "            \"\"\"Create an empty node\"\"\"\n",
    "            self._element = element\n",
    "            self._prev = prev\n",
    "            self._next = next\n",
    "    \n",
    "    def __init__(self):\n",
    "        \"\"\"Create a structure with two empty nodes, headers and tailer\"\"\"\n",
    "        self._header = self._Node(None, None, None)\n",
    "        self._trailer = self._Node(None, None, None)\n",
    "        self._header._next = self._trailer\n",
    "        self._trailer._prev = self._header\n",
    "        self._size = 0\n",
    "        \n",
    "    def __len__(self):\n",
    "        \"\"\"Return the size of the list\"\"\"\n",
    "        return self._size\n",
    "    \n",
    "    def is_empty(self):\n",
    "        \"\"\"Return True if the list is empty\"\"\"\n",
    "        return self._size == 0\n",
    "    \n",
    "    def _insert_between(self, e, predecessor, successor):\n",
    "        \"\"\"Insert an element e between predecessor and successor\"\"\"\n",
    "        newest = self._Node(e, predecessor, successor)\n",
    "        predecessor._next = newest\n",
    "        successor._prev = newest\n",
    "        self._size += 1\n",
    "        return newest\n",
    "    \n",
    "    def _delete_node(self, node):\n",
    "        \"\"\"Delete nonsentinal node from the list and return the element\"\"\"\n",
    "        predecessor = node._prev\n",
    "        successor = node._next\n",
    "        predecessor._next = successor\n",
    "        successor._prev = predecessor\n",
    "        self._size -= 1\n",
    "        element = node._element\n",
    "        node._prev = node._next = node._element = None\n",
    "        return element\n",
    "        \n",
    "        "
   ]
  },
  {
   "cell_type": "code",
   "execution_count": 33,
   "metadata": {},
   "outputs": [],
   "source": [
    "class LinkedDeque(_DoublyLinkedBase):\n",
    "    \"\"\"Double-ended queue implementation based on doubly linked list\"\"\"\n",
    "    \n",
    "    def first(self):\n",
    "        \"\"\"Return the first element(the next element of the header) in list\"\"\"\n",
    "        if self.is_empty():\n",
    "            raise Empty('Queue is empty')\n",
    "        return self._header._next._element\n",
    "    \n",
    "    def last(self):\n",
    "        \"\"\"Return the last element from the list\"\"\"\n",
    "        if self.is_empty():\n",
    "            raise Empty('Queue is empty')\n",
    "        return self._trailer._prev._element\n",
    "    \n",
    "    def insert_first(self, e):\n",
    "        \"\"\"Insert an element e between header and the first element\"\"\"\n",
    "        self._insert_between(e, self._header, self._header._next)\n",
    "    \n",
    "    def insert_last(self, e):\n",
    "        \"\"\"Insert an element e between the trailer and the last node\"\"\"\n",
    "        self._insert_between(e, self._trailer._prev, self._trailer)\n",
    "        \n",
    "    def delete_first(self):\n",
    "        \"\"\"Remove and return the element  from the first of the deque\"\"\"\n",
    "        if self.is_empty():\n",
    "            raise Empty('Queue is empty')\n",
    "        return self._delete_node(self._header._next)\n",
    "    \n",
    "    def delete_last(self):\n",
    "        \"\"\"Remove and return the element from the back of the queue\"\"\"\n",
    "        if self.is_empty():\n",
    "            raise Empty('Queue is empty')\n",
    "        return self._delete_node(self._trailer._prev)\n",
    "    "
   ]
  },
  {
   "cell_type": "code",
   "execution_count": 34,
   "metadata": {},
   "outputs": [],
   "source": [
    "d = LinkedDeque()"
   ]
  },
  {
   "cell_type": "code",
   "execution_count": 35,
   "metadata": {},
   "outputs": [],
   "source": [
    "d.insert_first('a')\n",
    "d.insert_last('b')"
   ]
  },
  {
   "cell_type": "code",
   "execution_count": 36,
   "metadata": {},
   "outputs": [
    {
     "data": {
      "text/plain": [
       "'a'"
      ]
     },
     "execution_count": 36,
     "metadata": {},
     "output_type": "execute_result"
    }
   ],
   "source": [
    "d.first()"
   ]
  },
  {
   "cell_type": "code",
   "execution_count": 37,
   "metadata": {},
   "outputs": [
    {
     "data": {
      "text/plain": [
       "'b'"
      ]
     },
     "execution_count": 37,
     "metadata": {},
     "output_type": "execute_result"
    }
   ],
   "source": [
    "d.last()"
   ]
  },
  {
   "cell_type": "code",
   "execution_count": 38,
   "metadata": {},
   "outputs": [
    {
     "data": {
      "text/plain": [
       "'a'"
      ]
     },
     "execution_count": 38,
     "metadata": {},
     "output_type": "execute_result"
    }
   ],
   "source": [
    "d.delete_first()"
   ]
  },
  {
   "cell_type": "code",
   "execution_count": 39,
   "metadata": {},
   "outputs": [
    {
     "data": {
      "text/plain": [
       "'b'"
      ]
     },
     "execution_count": 39,
     "metadata": {},
     "output_type": "execute_result"
    }
   ],
   "source": [
    "d.delete_last()"
   ]
  },
  {
   "cell_type": "code",
   "execution_count": 40,
   "metadata": {},
   "outputs": [
    {
     "data": {
      "text/plain": [
       "0"
      ]
     },
     "execution_count": 40,
     "metadata": {},
     "output_type": "execute_result"
    }
   ],
   "source": [
    "len(d)"
   ]
  },
  {
   "cell_type": "code",
   "execution_count": null,
   "metadata": {},
   "outputs": [],
   "source": []
  }
 ],
 "metadata": {
  "kernelspec": {
   "display_name": "Python 3",
   "language": "python",
   "name": "python3"
  },
  "language_info": {
   "codemirror_mode": {
    "name": "ipython",
    "version": 3
   },
   "file_extension": ".py",
   "mimetype": "text/x-python",
   "name": "python",
   "nbconvert_exporter": "python",
   "pygments_lexer": "ipython3",
   "version": "3.5.2"
  }
 },
 "nbformat": 4,
 "nbformat_minor": 2
}
